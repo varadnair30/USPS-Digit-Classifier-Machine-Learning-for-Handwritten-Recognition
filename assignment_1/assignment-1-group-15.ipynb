{
 "cells": [
  {
   "cell_type": "markdown",
   "metadata": {},
   "source": [
    "**USPS DATASET CLASSIFICATION**\n",
    "\n",
    "**Group-15**\n",
    "\n",
    "Group Members:\n",
    "\n",
    "1.Satya Shah-1002161494\n",
    "\n",
    "2.Harshita Dhingra-1002052823\n",
    "\n",
    "3.Varad Nair-1002161475\n"
   ]
  },
  {
   "cell_type": "code",
   "execution_count": 1,
   "metadata": {
    "trusted": true
   },
   "outputs": [],
   "source": [
    "from sklearn.neighbors import KNeighborsClassifier\n",
    "import h5py\n",
    "import matplotlib.pyplot as plt\n",
    "from sklearn.model_selection import cross_val_score\n",
    "from sklearn.model_selection import cross_val_predict\n",
    "from sklearn.metrics import confusion_matrix\n",
    "from sklearn.metrics import precision_score, recall_score\n",
    "import numpy as np\n"
   ]
  },
  {
   "cell_type": "code",
   "execution_count": 2,
   "metadata": {
    "execution": {
     "iopub.execute_input": "2025-02-11T18:32:59.807655Z",
     "iopub.status.busy": "2025-02-11T18:32:59.807284Z",
     "iopub.status.idle": "2025-02-11T18:32:59.921244Z",
     "shell.execute_reply": "2025-02-11T18:32:59.919785Z",
     "shell.execute_reply.started": "2025-02-11T18:32:59.807626Z"
    },
    "trusted": true
   },
   "outputs": [],
   "source": [
    "with h5py.File('usps.h5', 'r') as f: #Provide your path \n",
    "\n",
    "    train = f['train']\n",
    "    X_train = np.array(train['data'])  # Training features\n",
    "    y_train = np.array(train['target'])  # Training labels\n",
    "    test = f['test']\n",
    "    X_test = np.array(test['data'])  # Testing features\n",
    "    y_test = np.array(test['target'])  # Testing labels"
   ]
  },
  {
   "cell_type": "markdown",
   "metadata": {},
   "source": [
    "**HISTOGRAM OF ORIENTED GRADIENTS FOR FEATURE EXTRACTION**"
   ]
  },
  {
   "cell_type": "code",
   "execution_count": 3,
   "metadata": {
    "execution": {
     "iopub.execute_input": "2025-02-11T18:32:59.923231Z",
     "iopub.status.busy": "2025-02-11T18:32:59.922932Z",
     "iopub.status.idle": "2025-02-11T18:33:02.762891Z",
     "shell.execute_reply": "2025-02-11T18:33:02.761631Z",
     "shell.execute_reply.started": "2025-02-11T18:32:59.923206Z"
    },
    "trusted": true
   },
   "outputs": [],
   "source": [
    "from skimage.feature import hog\n",
    "\n",
    "# Extract HOG features\n",
    "X_train = np.array([hog(img.reshape(16, 16), pixels_per_cell=(4,4), cells_per_block=(2,2)) for img in X_train])\n",
    "X_test = np.array([hog(img.reshape(16, 16), pixels_per_cell=(4,4), cells_per_block=(2,2)) for img in X_test])\n",
    "\n",
    "\n"
   ]
  },
  {
   "cell_type": "code",
   "execution_count": 4,
   "metadata": {
    "execution": {
     "iopub.execute_input": "2025-02-11T18:33:02.765091Z",
     "iopub.status.busy": "2025-02-11T18:33:02.764696Z",
     "iopub.status.idle": "2025-02-11T18:33:02.771829Z",
     "shell.execute_reply": "2025-02-11T18:33:02.770803Z",
     "shell.execute_reply.started": "2025-02-11T18:33:02.765048Z"
    },
    "trusted": true
   },
   "outputs": [
    {
     "data": {
      "text/plain": [
       "(7291, 324)"
      ]
     },
     "execution_count": 4,
     "metadata": {},
     "output_type": "execute_result"
    }
   ],
   "source": [
    "X_train.shape"
   ]
  },
  {
   "cell_type": "code",
   "execution_count": 5,
   "metadata": {
    "execution": {
     "iopub.execute_input": "2025-02-11T18:33:02.773971Z",
     "iopub.status.busy": "2025-02-11T18:33:02.773675Z",
     "iopub.status.idle": "2025-02-11T18:33:02.793196Z",
     "shell.execute_reply": "2025-02-11T18:33:02.792068Z",
     "shell.execute_reply.started": "2025-02-11T18:33:02.773946Z"
    },
    "trusted": true
   },
   "outputs": [
    {
     "data": {
      "text/plain": [
       "(7291,)"
      ]
     },
     "execution_count": 5,
     "metadata": {},
     "output_type": "execute_result"
    }
   ],
   "source": [
    "y_train.shape"
   ]
  },
  {
   "cell_type": "code",
   "execution_count": 6,
   "metadata": {
    "execution": {
     "iopub.execute_input": "2025-02-11T18:33:02.794560Z",
     "iopub.status.busy": "2025-02-11T18:33:02.794218Z",
     "iopub.status.idle": "2025-02-11T18:33:02.814255Z",
     "shell.execute_reply": "2025-02-11T18:33:02.813179Z",
     "shell.execute_reply.started": "2025-02-11T18:33:02.794523Z"
    },
    "trusted": true
   },
   "outputs": [
    {
     "data": {
      "text/plain": [
       "array([[0.        , 0.        , 0.        , ..., 0.        , 0.        ,\n",
       "        0.        ],\n",
       "       [0.3051038 , 0.        , 0.        , ..., 0.        , 0.        ,\n",
       "        0.        ],\n",
       "       [0.        , 0.01930265, 0.        , ..., 0.        , 0.        ,\n",
       "        0.        ],\n",
       "       ...,\n",
       "       [0.27010828, 0.22500879, 0.20853613, ..., 0.        , 0.        ,\n",
       "        0.        ],\n",
       "       [0.14187327, 0.35852572, 0.        , ..., 0.        , 0.        ,\n",
       "        0.        ],\n",
       "       [0.        , 0.        , 0.        , ..., 0.        , 0.        ,\n",
       "        0.        ]], shape=(7291, 324), dtype=float32)"
      ]
     },
     "execution_count": 6,
     "metadata": {},
     "output_type": "execute_result"
    }
   ],
   "source": [
    "X_train"
   ]
  },
  {
   "cell_type": "code",
   "execution_count": 7,
   "metadata": {
    "execution": {
     "iopub.execute_input": "2025-02-11T18:33:02.815483Z",
     "iopub.status.busy": "2025-02-11T18:33:02.815127Z",
     "iopub.status.idle": "2025-02-11T18:33:02.839242Z",
     "shell.execute_reply": "2025-02-11T18:33:02.837925Z",
     "shell.execute_reply.started": "2025-02-11T18:33:02.815453Z"
    },
    "trusted": true
   },
   "outputs": [
    {
     "name": "stdout",
     "output_type": "stream",
     "text": [
      "Class 0: 1553 occurrences\n",
      "Class 1: 1269 occurrences\n",
      "Class 2: 929 occurrences\n",
      "Class 3: 824 occurrences\n",
      "Class 4: 852 occurrences\n",
      "Class 5: 716 occurrences\n",
      "Class 6: 834 occurrences\n",
      "Class 7: 792 occurrences\n",
      "Class 8: 708 occurrences\n",
      "Class 9: 821 occurrences\n"
     ]
    }
   ],
   "source": [
    "# The data is not imbalanced\n",
    "# Concatenate y_train and y_test\n",
    "y_combined = np.concatenate([y_train, y_test])\n",
    "\n",
    "# Get unique classes and their counts\n",
    "unique_classes, class_counts = np.unique(y_combined, return_counts=True)\n",
    "\n",
    "# Print the frequency of each class\n",
    "for cls, count in zip(unique_classes, class_counts):\n",
    "    print(f\"Class {cls}: {count} occurrences\")\n"
   ]
  },
  {
   "cell_type": "code",
   "execution_count": 8,
   "metadata": {
    "execution": {
     "iopub.execute_input": "2025-02-11T18:33:02.841135Z",
     "iopub.status.busy": "2025-02-11T18:33:02.840766Z",
     "iopub.status.idle": "2025-02-11T18:33:02.865003Z",
     "shell.execute_reply": "2025-02-11T18:33:02.862852Z",
     "shell.execute_reply.started": "2025-02-11T18:33:02.841104Z"
    },
    "trusted": true
   },
   "outputs": [
    {
     "data": {
      "text/plain": [
       "array([6, 5, 4, ..., 3, 0, 1], shape=(7291,), dtype=int32)"
      ]
     },
     "execution_count": 8,
     "metadata": {},
     "output_type": "execute_result"
    }
   ],
   "source": [
    "y_train"
   ]
  },
  {
   "cell_type": "markdown",
   "metadata": {},
   "source": [
    "**KNN**"
   ]
  },
  {
   "cell_type": "code",
   "execution_count": 9,
   "metadata": {
    "execution": {
     "iopub.execute_input": "2025-02-11T18:33:02.868769Z",
     "iopub.status.busy": "2025-02-11T18:33:02.868213Z",
     "iopub.status.idle": "2025-02-11T18:33:02.888128Z",
     "shell.execute_reply": "2025-02-11T18:33:02.886824Z",
     "shell.execute_reply.started": "2025-02-11T18:33:02.868736Z"
    },
    "trusted": true
   },
   "outputs": [],
   "source": [
    "# k_list = []\n",
    "# k_CV_Score = []\n",
    "\n",
    "neighbor_values = []\n",
    "cross_val_results = []"
   ]
  },
  {
   "cell_type": "code",
   "execution_count": 10,
   "metadata": {
    "execution": {
     "iopub.execute_input": "2025-02-11T18:33:02.890235Z",
     "iopub.status.busy": "2025-02-11T18:33:02.889845Z",
     "iopub.status.idle": "2025-02-11T18:33:39.141166Z",
     "shell.execute_reply": "2025-02-11T18:33:39.139682Z",
     "shell.execute_reply.started": "2025-02-11T18:33:02.890201Z"
    },
    "trusted": true
   },
   "outputs": [],
   "source": [
    "\n",
    "# Iterating through values of k from 6 to 40\n",
    "k_value = 6\n",
    "while k_value <= 40:\n",
    "    neighbor_values.append(k_value)\n",
    "    \n",
    "    # Initializing KNN with current k value\n",
    "    knn_model = KNeighborsClassifier(n_neighbors=k_value, n_jobs=-1)\n",
    "    \n",
    "    # Computing cross-validation scores using 10-fold CV\n",
    "    cv_accuracy = cross_val_score(knn_model, X_train, y_train, cv=10, scoring=\"accuracy\", n_jobs=-1)\n",
    "    \n",
    "    # Storing mean cross-validation score\n",
    "    cross_val_results.append(cv_accuracy.mean())\n",
    "    \n",
    "    # Incrementing k value for next iteration\n",
    "    k_value += 1"
   ]
  },
  {
   "cell_type": "code",
   "execution_count": 11,
   "metadata": {
    "execution": {
     "iopub.execute_input": "2025-02-11T18:33:39.143136Z",
     "iopub.status.busy": "2025-02-11T18:33:39.142691Z",
     "iopub.status.idle": "2025-02-11T18:33:39.590002Z",
     "shell.execute_reply": "2025-02-11T18:33:39.588962Z",
     "shell.execute_reply.started": "2025-02-11T18:33:39.143090Z"
    },
    "trusted": true
   },
   "outputs": [],
   "source": [
    "\n",
    "# Finding the best k value with the highest cross-validation accuracy\n",
    "optimal_k = neighbor_values[np.argmax(cross_val_results)]\n",
    "\n",
    "# Initializing and training KNN with the best k value\n",
    "optimal_knn_model = KNeighborsClassifier(n_neighbors=optimal_k, n_jobs=-1)\n",
    "optimal_knn_model.fit(X_train, y_train)\n",
    "\n",
    "# Making predictions on test data\n",
    "predicted_labels = optimal_knn_model.predict(X_test)"
   ]
  },
  {
   "cell_type": "code",
   "execution_count": 12,
   "metadata": {
    "execution": {
     "iopub.execute_input": "2025-02-11T18:33:39.591339Z",
     "iopub.status.busy": "2025-02-11T18:33:39.591038Z",
     "iopub.status.idle": "2025-02-11T18:33:39.599242Z",
     "shell.execute_reply": "2025-02-11T18:33:39.598028Z",
     "shell.execute_reply.started": "2025-02-11T18:33:39.591311Z"
    },
    "trusted": true
   },
   "outputs": [
    {
     "name": "stdout",
     "output_type": "stream",
     "text": [
      "\n",
      "Cross-validation results for k values:\n",
      "k values: [6, 7, 8, 9, 10, 11, 12, 13, 14, 15, 16, 17, 18, 19, 20, 21, 22, 23, 24, 25, 26, 27, 28, 29, 30, 31, 32, 33, 34, 35, 36, 37, 38, 39, 40]\n",
      "\n",
      "Cross-validation scores for 10 folds: [0.968454629159855, 0.9648888513069132, 0.965300373940658, 0.9624195275945656, 0.9654377360617848, 0.9629684123494373, 0.9633797470733038, 0.963379934983182, 0.962145554991826, 0.9596769829189921, 0.9603628539752334, 0.9577567318713947, 0.9589909239528722, 0.9570710487250315, 0.9588539376515024, 0.9561106413364151, 0.9576197455700248, 0.9562480034575417, 0.9574825713587763, 0.9555623203111787, 0.9559738429449236, 0.9547392750436892, 0.9552879718886823, 0.9537790555649511, 0.9541905781986959, 0.9532305466298363, 0.9535050829622114, 0.9525448634834731, 0.9529565740270967, 0.9521333408497284, 0.9513106714019954, 0.951172933461112, 0.9504880019542628, 0.9500762914106394, 0.9504880019542629]\n",
      "\n",
      "Optimal k value: 6\n"
     ]
    }
   ],
   "source": [
    "import numpy as np\n",
    "\n",
    "# Converting NumPy float64 values to standard Python floats\n",
    "cross_val_results = [float(score) for score in cross_val_results]\n",
    "\n",
    "# Displaying cross-validation results\n",
    "print(\"\\nCross-validation results for k values:\")\n",
    "print(\"k values:\", neighbor_values)\n",
    "print(\"\\nCross-validation scores for 10 folds:\", cross_val_results)\n",
    "print(\"\\nOptimal k value:\", optimal_k)\n"
   ]
  },
  {
   "cell_type": "code",
   "execution_count": 13,
   "metadata": {
    "execution": {
     "iopub.execute_input": "2025-02-11T18:33:39.600829Z",
     "iopub.status.busy": "2025-02-11T18:33:39.600509Z",
     "iopub.status.idle": "2025-02-11T18:33:40.022027Z",
     "shell.execute_reply": "2025-02-11T18:33:40.020700Z",
     "shell.execute_reply.started": "2025-02-11T18:33:39.600803Z"
    },
    "trusted": true
   },
   "outputs": [
    {
     "data": {
      "image/png": "[encoded data removed]",
      "text/plain": [
       "<Figure size 1000x900 with 1 Axes>"
      ]
     },
     "metadata": {},
     "output_type": "display_data"
    }
   ],
   "source": [
    "\n",
    "# Plotting k values vs. cross-validation scores with a line connecting the dots\n",
    "plt.figure(figsize=(10, 9))\n",
    "plt.scatter(neighbor_values, cross_val_results, marker='o', color='red')  # Scatter plot\n",
    "plt.plot(neighbor_values, cross_val_results, color='blue')  # Line connecting the dots\n",
    "plt.title('Cross-validation Performance on 10 Folds')\n",
    "plt.xlabel('Number of Neighbors (k)')\n",
    "plt.ylabel('Mean Cross-validation Accuracy')\n",
    "plt.xticks(neighbor_values)\n",
    "plt.grid(True)\n",
    "plt.show()\n"
   ]
  },
  {
   "cell_type": "code",
   "execution_count": 14,
   "metadata": {
    "execution": {
     "iopub.execute_input": "2025-02-11T18:33:40.023545Z",
     "iopub.status.busy": "2025-02-11T18:33:40.023169Z",
     "iopub.status.idle": "2025-02-11T18:33:40.041489Z",
     "shell.execute_reply": "2025-02-11T18:33:40.040315Z",
     "shell.execute_reply.started": "2025-02-11T18:33:40.023516Z"
    },
    "trusted": true
   },
   "outputs": [
    {
     "name": "stdout",
     "output_type": "stream",
     "text": [
      "\n",
      "Confusion Matrix:\n",
      "[[356   0   2   0   0   0   0   0   0   1]\n",
      " [  0 260   0   0   1   0   1   0   0   2]\n",
      " [ 10   1 182   0   1   1   0   3   0   0]\n",
      " [  3   0   0 156   0   3   1   0   2   1]\n",
      " [  0   3   3   0 173   0   2   0   0  19]\n",
      " [  1   1   0   4   0 154   0   0   0   0]\n",
      " [  2   0   0   0   1   1 166   0   0   0]\n",
      " [  0   2   2   0   7   0   0 135   0   1]\n",
      " [  6   1   0   4   1   0   3   1 147   3]\n",
      " [  1   0   0   0   1   0   0   2   1 172]]\n",
      "\n",
      "Precision: 0.9483950185532224\n",
      "Recall: 0.9471848530144494\n"
     ]
    }
   ],
   "source": [
    "# Computing confusion matrix, precision, and recall\n",
    "conf_matrix_result = confusion_matrix(y_test, predicted_labels)\n",
    "precision_score_result = precision_score(y_test, predicted_labels, average=\"weighted\")\n",
    "recall_score_result = recall_score(y_test, predicted_labels, average=\"weighted\")\n",
    "\n",
    "# Displaying confusion matrix, precision, and recall results\n",
    "print(\"\\nConfusion Matrix:\")\n",
    "print(conf_matrix_result)\n",
    "\n",
    "print(\"\\nPrecision:\", precision_score_result)\n",
    "print(\"Recall:\", recall_score_result)\n"
   ]
  },
  {
   "cell_type": "code",
   "execution_count": 15,
   "metadata": {
    "execution": {
     "iopub.execute_input": "2025-02-11T18:33:40.043125Z",
     "iopub.status.busy": "2025-02-11T18:33:40.042705Z",
     "iopub.status.idle": "2025-02-11T18:33:40.355598Z",
     "shell.execute_reply": "2025-02-11T18:33:40.354411Z",
     "shell.execute_reply.started": "2025-02-11T18:33:40.043082Z"
    },
    "trusted": true
   },
   "outputs": [
    {
     "name": "stdout",
     "output_type": "stream",
     "text": [
      "KNN Classifier Accuracy: 94.72%\n"
     ]
    }
   ],
   "source": [
    "\n",
    "# Computing and displaying model accuracy on test data\n",
    "knn_accuracy = optimal_knn_model.score(X_test, y_test)\n",
    "print(f\"KNN Classifier Accuracy: {knn_accuracy:.2%}\")"
   ]
  },
  {
   "cell_type": "markdown",
   "metadata": {},
   "source": [
    "**NAIVE BAYES**"
   ]
  },
  {
   "cell_type": "code",
   "execution_count": 16,
   "metadata": {
    "execution": {
     "iopub.execute_input": "2025-02-11T18:33:40.356883Z",
     "iopub.status.busy": "2025-02-11T18:33:40.356602Z",
     "iopub.status.idle": "2025-02-11T18:33:40.362638Z",
     "shell.execute_reply": "2025-02-11T18:33:40.361534Z",
     "shell.execute_reply.started": "2025-02-11T18:33:40.356859Z"
    },
    "trusted": true
   },
   "outputs": [
    {
     "name": "stdout",
     "output_type": "stream",
     "text": [
      "X_train:(7291, 324)\n",
      "y_train:(7291,)\n"
     ]
    }
   ],
   "source": [
    "print(f\"X_train:{X_train.shape}\")\n",
    "print(f\"y_train:{y_train.shape}\")"
   ]
  },
  {
   "cell_type": "code",
   "execution_count": 17,
   "metadata": {
    "execution": {
     "iopub.execute_input": "2025-02-11T18:33:40.364481Z",
     "iopub.status.busy": "2025-02-11T18:33:40.363978Z",
     "iopub.status.idle": "2025-02-11T18:33:40.750763Z",
     "shell.execute_reply": "2025-02-11T18:33:40.749263Z",
     "shell.execute_reply.started": "2025-02-11T18:33:40.364432Z"
    },
    "trusted": true
   },
   "outputs": [
    {
     "name": "stdout",
     "output_type": "stream",
     "text": [
      "Fold 1: Accuracy = 0.9356\n",
      "Fold 2: Accuracy = 0.9410\n",
      "Fold 3: Accuracy = 0.9218\n",
      "Fold 4: Accuracy = 0.9355\n",
      "Fold 5: Accuracy = 0.9383\n",
      "Fold 6: Accuracy = 0.9396\n",
      "Fold 7: Accuracy = 0.9520\n",
      "Fold 8: Accuracy = 0.9355\n",
      "Fold 9: Accuracy = 0.9314\n",
      "Fold 10: Accuracy = 0.9273\n",
      "\n",
      "Mean Accuracy (10-fold CV): 0.9358\n"
     ]
    }
   ],
   "source": [
    "from sklearn.naive_bayes import GaussianNB\n",
    "\n",
    "from sklearn.model_selection import cross_val_score\n",
    "\n",
    "# Initializing Naive Bayes classifier\n",
    "nb = GaussianNB(var_smoothing=0.05071850173206816) #Var Smoothing based on Optuna, library for hyperparameter tuning\n",
    "\n",
    "\n",
    "# Performing 10-fold cross-validation and getting accuracy scores for each fold\n",
    "cv_scores = cross_val_score(nb, X_train, y_train, cv=10, scoring=\"accuracy\", n_jobs=-1)\n",
    "\n",
    "for i, score in enumerate(cv_scores, start=1):\n",
    "    print(f\"Fold {i}: Accuracy = {score:.4f}\")\n",
    "\n",
    "print(f\"\\nMean Accuracy (10-fold CV): {cv_scores.mean():.4f}\")\n"
   ]
  },
  {
   "cell_type": "code",
   "execution_count": 18,
   "metadata": {
    "execution": {
     "iopub.execute_input": "2025-02-11T18:33:40.752253Z",
     "iopub.status.busy": "2025-02-11T18:33:40.751877Z",
     "iopub.status.idle": "2025-02-11T18:33:40.835890Z",
     "shell.execute_reply": "2025-02-11T18:33:40.834613Z",
     "shell.execute_reply.started": "2025-02-11T18:33:40.752209Z"
    },
    "trusted": true
   },
   "outputs": [
    {
     "name": "stdout",
     "output_type": "stream",
     "text": [
      "\n",
      "Accuracy on Test Data: 0.9123\n",
      "\n",
      "Confusion Matrix:\n",
      "[[343   1   4   4   2   5   0   0   0   0]\n",
      " [  0 257   1   0   3   0   3   0   0   0]\n",
      " [  4   0 174   5   4   1   1   1   7   1]\n",
      " [  1   0   2 149   0   7   0   0   7   0]\n",
      " [  0   1   4   0 157   0   1   0   2  35]\n",
      " [  1   0   0   3   0 148   0   0   7   1]\n",
      " [  1   0   2   0   3   6 157   0   1   0]\n",
      " [  0   1   2   0   6   0   0 132   2   4]\n",
      " [  1   1   1   8   2   1   1   0 149   2]\n",
      " [  1   0   1   0   3   0   0   6   1 165]]\n",
      "\n",
      "Precision: 0.9149\n",
      "Recall: 0.9123\n"
     ]
    }
   ],
   "source": [
    "from sklearn.metrics import confusion_matrix, precision_score, recall_score, accuracy_score\n",
    "\n",
    "# Fit the model on training data\n",
    "nb.fit(X_train, y_train)\n",
    "\n",
    "# Make predictions on the test set\n",
    "y_pred = nb.predict(X_test)\n",
    "\n",
    "# 1. Accuracy on the test data\n",
    "accuracy = accuracy_score(y_test, y_pred)\n",
    "print(f\"\\nAccuracy on Test Data: {accuracy:.4f}\")\n",
    "\n",
    "# 2. Confusion Matrix\n",
    "cm = confusion_matrix(y_test, y_pred)\n",
    "print(\"\\nConfusion Matrix:\")\n",
    "print(cm)\n",
    "\n",
    "# 3. Precision and Recall\n",
    "precision = precision_score(y_test, y_pred, average='weighted')  # Weighted for multi-class\n",
    "recall = recall_score(y_test, y_pred, average='weighted')  # Weighted for multi-class\n",
    "\n",
    "print(f\"\\nPrecision: {precision:.4f}\")\n",
    "print(f\"Recall: {recall:.4f}\")"
   ]
  },
  {
   "cell_type": "markdown",
   "metadata": {},
   "source": [
    "**Optuna**"
   ]
  },
  {
   "cell_type": "code",
   "execution_count": 19,
   "metadata": {
    "execution": {
     "iopub.execute_input": "2025-02-11T18:33:40.837523Z",
     "iopub.status.busy": "2025-02-11T18:33:40.837064Z",
     "iopub.status.idle": "2025-02-11T18:33:40.841848Z",
     "shell.execute_reply": "2025-02-11T18:33:40.840659Z",
     "shell.execute_reply.started": "2025-02-11T18:33:40.837480Z"
    },
    "trusted": true
   },
   "outputs": [],
   "source": [
    "# !pip install optuna"
   ]
  },
  {
   "cell_type": "code",
   "execution_count": 20,
   "metadata": {
    "execution": {
     "iopub.execute_input": "2025-02-11T18:35:39.410233Z",
     "iopub.status.busy": "2025-02-11T18:35:39.409907Z",
     "iopub.status.idle": "2025-02-11T18:35:39.414709Z",
     "shell.execute_reply": "2025-02-11T18:35:39.413632Z",
     "shell.execute_reply.started": "2025-02-11T18:35:39.410207Z"
    },
    "trusted": true
   },
   "outputs": [],
   "source": [
    "# import optuna\n",
    "# def objective(trial):\n",
    "#     var_smoothing = trial.suggest_loguniform(\"var_smoothing\", 1e-9, 1.0)\n",
    "\n",
    "#     nb = GaussianNB(var_smoothing=var_smoothing)\n",
    "\n",
    "#     # Performin 10-fold cross-validation\n",
    "#     cv_scores = cross_val_score(nb, X_train, y_train, cv=10, scoring=\"accuracy\", n_jobs=-1)\n",
    "\n",
    "#     return cv_scores.mean()\n",
    "\n",
    "# # Create an Optuna study to find the best var_smoothing\n",
    "# study = optuna.create_study(direction=\"maximize\")\n",
    "# study.optimize(objective, n_trials=100)  # Run 50 trials (you can adjust this)\n",
    "\n",
    "# # Getting the best parameter\n",
    "# best_var_smoothing = study.best_params[\"var_smoothing\"]\n",
    "# print(f\"Best var_smoothing: {best_var_smoothing}\")\n",
    "\n",
    "# # Training GaussianNB with the best var_smoothing on full training data\n",
    "# best_nb = GaussianNB(var_smoothing=best_var_smoothing)\n",
    "# best_nb.fit(X_train, y_train)\n",
    "\n",
    "# # Getting test accuracy\n",
    "# test_accuracy = best_nb.score(X_test, y_test)\n",
    "# print(f\"Test Accuracy with best var_smoothing: {test_accuracy:.4f}\")"
   ]
  },
  {
   "cell_type": "code",
   "execution_count": null,
   "metadata": {
    "trusted": true
   },
   "outputs": [],
   "source": []
  }
 ],
 "metadata": {
  "kaggle": {
   "accelerator": "none",
   "dataSources": [
    {
     "datasetId": 20173,
     "sourceId": 26126,
     "sourceType": "datasetVersion"
    }
   ],
   "dockerImageVersionId": 30886,
   "isGpuEnabled": false,
   "isInternetEnabled": true,
   "language": "python",
   "sourceType": "notebook"
  },
  "kernelspec": {
   "display_name": "Python 3",
   "language": "python",
   "name": "python3"
  },
  "language_info": {
   "codemirror_mode": {
    "name": "ipython",
    "version": 3
   },
   "file_extension": ".py",
   "mimetype": "text/x-python",
   "name": "python",
   "nbconvert_exporter": "python",
   "pygments_lexer": "ipython3",
   "version": "3.13.0"
  }
 },
 "nbformat": 4,
 "nbformat_minor": 4
}
